{
 "cells": [
  {
   "cell_type": "code",
   "execution_count": 1,
   "id": "cfda5d46",
   "metadata": {},
   "outputs": [],
   "source": [
    "import warnings\n",
    "warnings.filterwarnings(\"ignore\")"
   ]
  },
  {
   "cell_type": "code",
   "execution_count": 2,
   "id": "92b30dfc",
   "metadata": {},
   "outputs": [],
   "source": [
    "import numpy as np\n",
    "import pandas as pd\n",
    "import matplotlib.pyplot as plt\n",
    "from IPython.display import display\n",
    "\n",
    "from sklearn.ensemble import RandomForestClassifier\n",
    "from sklearn.tree import DecisionTreeClassifier\n",
    "from sklearn.neighbors import KNeighborsRegressor, KNeighborsClassifier \n",
    "from sklearn.model_selection import GridSearchCV"
   ]
  },
  {
   "cell_type": "markdown",
   "id": "ecb04da8",
   "metadata": {},
   "source": [
    "<div style=\"background-color: #F6BDD1; color:white; padding: 10px;\">\n",
    "    <h1>I. Régression par les plus prohces voisins </h1>\n",
    "</div>"
   ]
  },
  {
   "cell_type": "markdown",
   "id": "9b95526c",
   "metadata": {},
   "source": [
    "<div style=\"background-color: #C7F3A5; padding: 10px;\">\n",
    "    <h>\n",
    "        La méthode de classification des <b>k plus proches voisins</b> prend en compte la proximité spatiale des données et attribue une classe en fonction de la majorité des classes parmi ses voisins les plus proches. Nous souhaitons illustrer la consistance de l’utilisation des plus proches voisins pour un <b>problème de régression</b>. \n",
    "        <br></br>\n",
    "    Un classificateur $(\\hat{c}_n)_n$ est dit <b>consistant</b> si \n",
    "    $\\mathbb{E}[|c^*(X) - \\hat{c}_n(X)|]$ converge presque-sûrement vers $0$, $c^*$ étant la vraie fonction de régression et $\\hat{c}_n$ l'estimation de cette fonction de régression. Autrement dit,\n",
    "    $$\\hat{c}_n(X) \\xrightarrow{L_1} c^*(X)$$\n",
    "    <br></br>\n",
    "    L'estimateur de régression non paramètrqiue est défini comme suit:\n",
    "    $$\\hat{c}_n (x) = \\sum_{i=1}^{n} W_{n,i} (x; X_1, \\dots, X_n)Y_i $$\n",
    "    avec <ul>  \n",
    "    <li> $n$ le nombre d'observations</li>\n",
    "    <li> $Y_i$ la variable cible (valeur de régression) associée à l'observation $i$ </li>\n",
    "    <li> $W_{n,i} (x; X_1, \\dots, X_n)$ (le noyau) le poids associé à chaque observation $i$ dépendant de la distance entre $x$ (point à estimer) et les observations $X_i$ dans l'espace des caractéristiques. <br />\n",
    "        $\\to W_{n,i} (x; X_1, \\dots, X_n) = \\frac{1}{k_n}$ si $X_i$ fait partie des $k_n$ plus proches voisins de $x$ </li>\n",
    "</ul>\n",
    "    <br></br>\n",
    "        Soient $X \\leadsto \\mathcal{U}([0,1])$ et $Y = sin(2 \\pi X)+ \\varepsilon $ avec $\\varepsilon \\leadsto \\mathcal(0,0.5)$ et indépendant de $X$. \n",
    "</h>\n",
    "</div>   "
   ]
  },
  {
   "cell_type": "markdown",
   "id": "0b865504-b7fe-4eb6-a3db-aa48279fabda",
   "metadata": {},
   "source": [
    "<hr style=\"border: 1px solid #000; margin-top: 5px; margin-bottom: 5px;\">\n"
   ]
  },
  {
   "cell_type": "markdown",
   "id": "4236162e-4a53-435f-905a-4537a23af6f0",
   "metadata": {},
   "source": [
    "<div style=\"background-color: #C7F3A5; padding: 10px;\">\n",
    "    <h>\n",
    "        The <b>k-nearest neighbors</b> classification method considers the spatial proximity of data and assigns a class based on the majority class among its nearest neighbors. We aim to illustrate the consistency of using nearest neighbors for a <b>regression problem</b>. \n",
    "        <br></br>\n",
    "        A classifier $(\\hat{c}_n)_n$ is said to be <b>consistent</b> if  \n",
    "        $\\mathbb{E}[|c^*(X) - \\hat{c}_n(X)|]$ almost surely converges to $0$, where $c^*$ is the true regression function and $\\hat{c}_n$ is the estimation of this regression function. In other words,  \n",
    "        $$\\hat{c}_n(X) \\xrightarrow{L_1} c^*(X)$$  \n",
    "        <br></br>\n",
    "        The non-parametric regression estimator is defined as follows:  \n",
    "        $$\\hat{c}_n (x) = \\sum_{i=1}^{n} W_{n,i} (x; X_1, \\dots, X_n)Y_i $$  \n",
    "        where <ul>  \n",
    "        <li> $n$ is the number of observations</li>\n",
    "        <li> $Y_i$ is the target variable (regression value) associated with observation $i$ </li>\n",
    "        <li> $W_{n,i} (x; X_1, \\dots, X_n)$ (the kernel) is the weight associated with each observation $i$, depending on the distance between $x$ (the point to estimate) and the observations $X_i$ in the feature space. <br />\n",
    "            $\\to W_{n,i} (x; X_1, \\dots, X_n) = \\frac{1}{k_n}$ if $X_i$ is among the $k_n$ nearest neighbors of $x$ </li>\n",
    "</ul>\n",
    "    <br></br>\n",
    "        Let $X \\leadsto \\mathcal{U}([0,1])$ and $Y = \\sin(2 \\pi X) + \\varepsilon $, where $\\varepsilon \\leadsto \\mathcal{N}(0,0.5)$ and is independent of $X$.  \n",
    "</h>\n",
    "</div>\n"
   ]
  },
  {
   "cell_type": "markdown",
   "id": "55db1777",
   "metadata": {},
   "source": [
    "Montrons tout d'abord que \n",
    "$$ \\mathbb{E}[Y|X] = \\sin(2\\pi X)$$\n",
    "\n",
    "Soit $(\\Omega, \\mathcal{A}, \\mathbb{P})$ un espace probabilisé. Alors $\\forall X \\in L^1(\\Omega, \\mathcal{A}, \\mathbb{P})$ \n",
    "$$\\mathbb{E}\\big[\\mathbb{E} [Y|X] \\big] = \\mathbb{E}\\big[Y\\big]$$\n",
    "\n",
    "D'après cette propriété, montrer que $\\mathbb{E}[Y|X] = \\sin(2\\pi X)$ reviens à montrer que \n",
    "$$ \\mathbb{E}[Y] = \\mathbb{E}[\\sin(2\\pi X)]$$\n",
    "\n",
    "On a \n",
    "\\begin{align}\n",
    "\\mathbb{E}[Y] &= \\mathbb{E}[sin(2\\pi X) + \\varepsilon] \\\\\n",
    " &= \\mathbb{E}[sin(2\\pi X) + \\mathbb{E}[\\varepsilon] \\quad \\text{car} ~ X ~ \\text{et} ~ \\varepsilon ~ \\text{sont indépendants} \\\\\n",
    " &= \\mathbb{E}[sin(2\\pi X)] \\quad \\text{car} ~ \\mathbb{E}[\\varepsilon]=0\n",
    "\\end{align}\n",
    "\n",
    "Nous avons donc bien montré que $c^*(X) := \\mathbb{E}[Y|X] = \\sin(2\\pi X)$"
   ]
  },
  {
   "cell_type": "markdown",
   "id": "67374e94-4ff7-4cfe-b0e4-9d641324c124",
   "metadata": {},
   "source": [
    "<hr style=\"border: 1px solid #000; margin-top: 5px; margin-bottom: 5px;\">"
   ]
  },
  {
   "cell_type": "markdown",
   "id": "d3021faa-7fb5-40cd-bfd2-039862301c8a",
   "metadata": {},
   "source": [
    "Let us first show that  \n",
    "$$ \\mathbb{E}[Y|X] = \\sin(2\\pi X)$$\n",
    "\n",
    "Let $(\\Omega, \\mathcal{A}, \\mathbb{P})$ be a probability space. Then $\\forall X \\in L^1(\\Omega, \\mathcal{A}, \\mathbb{P})$ \n",
    "$$\\mathbb{E}\\big[\\mathbb{E} [Y|X] \\big] = \\mathbb{E}\\big[Y\\big]$$\n",
    "\n",
    "According to this property, proving that $\\mathbb{E}[Y|X] = \\sin(2\\pi X)$ amounts to showing that \n",
    "$$ \\mathbb{E}[Y] = \\mathbb{E}[\\sin(2\\pi X)]$$\n",
    "\n",
    "On a \n",
    "\\begin{align}\n",
    "\\mathbb{E}[Y] &= \\mathbb{E}[sin(2\\pi X) + \\varepsilon] \\\\\n",
    " &= \\mathbb{E}[sin(2\\pi X) + \\mathbb{E}[\\varepsilon] \\quad \\text{car} ~ X ~ \\text{et} ~ \\varepsilon ~ \\text{sont indépendants} \\\\\n",
    " &= \\mathbb{E}[sin(2\\pi X)] \\quad \\text{car} ~ \\mathbb{E}[\\varepsilon]=0\n",
    "\\end{align}\n",
    "\n",
    "Thus, we have successfully shown that $c^*(X) := \\mathbb{E}[Y|X] = \\sin(2\\pi X)$"
   ]
  },
  {
   "cell_type": "markdown",
   "id": "fa83dfc0",
   "metadata": {},
   "source": [
    "Nous allons maintenant illustrer la **consistance de cet estimateur**. \n",
    "\n",
    "Pour cela nous allons réaliser des simulations avec des échantillons de tailles différentes, et pour chaque taille d'échantillon nous allons faire une estimation de l'espérance $\\mathbb{E}[|c^*(X) - \\hat{c}_n(X)|]$ en utilisnat la **méthode de Monte Carlo**. "
   ]
  },
  {
   "cell_type": "markdown",
   "id": "645db701-983e-4be4-a3b2-7506bae64a87",
   "metadata": {},
   "source": [
    "<hr style=\"border: 1px solid #000; margin-top: 5px; margin-bottom: 5px;\">"
   ]
  },
  {
   "cell_type": "markdown",
   "id": "006b3e35-964d-4ca6-b57f-ee5636dfc1b0",
   "metadata": {},
   "source": [
    "We will now illustrate the **consistency of this estimator**.  \n",
    "\n",
    "To do this, we will perform simulations with samples of different sizes, and for each sample size, we will estimate the expectation $\\mathbb{E}[|c^*(X) - \\hat{c}_n(X)|]$ using the **Monte Carlo method**.  \n"
   ]
  },
  {
   "cell_type": "code",
   "execution_count": 3,
   "id": "f0dcebd3",
   "metadata": {},
   "outputs": [],
   "source": [
    "# les données \n",
    "def generate_data(n_samples):\n",
    "    \"\"\"\n",
    "    Génère un ensemble de données basé sur une fonction sinusoïdale avec un bruit gaussien.\n",
    "\n",
    "    Paramètres :\n",
    "    - n_samples : int, nombre d'échantillons à générer\n",
    "\n",
    "    Retourne :\n",
    "    - X : np.array, tableau (n_samples, 1) contenant les valeurs d'entrée entre 0 et 1\n",
    "    - Y : np.array, tableau (n_samples,) contenant les valeurs de sortie bruitées\n",
    "    \"\"\"\n",
    "    np.random.seed(42)\n",
    "    X = np.random.rand(n_samples)\n",
    "    eps = np.random.normal(0, 0.5, n_samples)\n",
    "    Y = np.sin(2 * np.pi * X) + eps\n",
    "    return X.reshape(-1, 1), Y\n",
    "\n",
    "# la vraie fonction conditionnelle\n",
    "def c_etoile(x):\n",
    "    \"\"\"\n",
    "    Calcule la vraie fonction conditionnelle E[Y | X = x].\n",
    "\n",
    "    Paramètres :\n",
    "    - x : float ou np.array, valeur(s) d'entrée\n",
    "\n",
    "    Retourne :\n",
    "    - y : float ou np.array, valeur(s) de sin(2πx) sans bruit\n",
    "    \"\"\"\n",
    "    return np.sin(2 * np.pi * x)"
   ]
  },
  {
   "cell_type": "markdown",
   "id": "b7514e4d",
   "metadata": {},
   "source": [
    "On definit les paramètres que nous allons tester : le nombre de simulations, le nombre de plus proches voisisns et les tailles d'échantillons.\n",
    "\n",
    "<hr style=\"border: 1px solid #000; margin-top: 5px; margin-bottom: 5px;\">\n",
    "\n",
    "We define the parameters that we will test: the number of simulations, the number of nearest neighbors, and the sample sizes.\n"
   ]
  },
  {
   "cell_type": "code",
   "execution_count": 4,
   "id": "b931dfbe",
   "metadata": {},
   "outputs": [],
   "source": [
    "nb_simulations = 100  \n",
    "nb_voisins = [1, 3, 5, 10]  \n",
    "nb_samples = [50, 100, 200, 500, 1000, 10000, 10000]"
   ]
  },
  {
   "cell_type": "markdown",
   "id": "ebe87a08",
   "metadata": {},
   "source": [
    "Une fois que nous avons defini les paramètres nous passons à la simulation.\n",
    "\n",
    "<hr style=\"border: 1px solid #000; margin-top: 5px; margin-bottom: 5px;\">\n",
    "Once we have defined the parameters, we proceed to the simulation.\n"
   ]
  },
  {
   "cell_type": "code",
   "execution_count": 5,
   "id": "7062a2ad",
   "metadata": {},
   "outputs": [
    {
     "data": {
      "image/png": "[encoded data removed]",
      "text/plain": [
       "<Figure size 640x480 with 1 Axes>"
      ]
     },
     "metadata": {},
     "output_type": "display_data"
    }
   ],
   "source": [
    "for k in nb_voisins:\n",
    "    mean_errors = []\n",
    "\n",
    "    for sample in nb_samples:\n",
    "        errors = []\n",
    "\n",
    "        for _ in range(nb_simulations):\n",
    "            # génération des données\n",
    "            X, Y_true = generate_data(sample)\n",
    "\n",
    "            # régression par les k plus proches voisins\n",
    "            knn_regressor = KNeighborsRegressor(n_neighbors=k)\n",
    "\n",
    "            # entraînement du modèle\n",
    "            knn_regressor.fit(X, Y_true)\n",
    "\n",
    "            # estimateur\n",
    "            c_chapeau = knn_regressor.predict(X)\n",
    "\n",
    "            # l'erreur entre l'estimateur et la vraie fonction conditionnelle\n",
    "            error = c_chapeau - c_etoile(X.flatten())\n",
    "            errors.append(error)\n",
    "\n",
    "        # l'espérance de l'erreur\n",
    "        mean_error = np.mean(errors, axis=0)\n",
    "        mean_errors.append(np.mean(mean_error))\n",
    "\n",
    "    plt.plot(nb_samples, mean_errors, label=f'{k} voisins')\n",
    "    plt.axhline(y=0, color=\"black\", linestyle=\"--\", linewidth=1)\n",
    "\n",
    "plt.xlabel(\"Taille de l'échantillon\")\n",
    "plt.ylabel(\"Espérance\")\n",
    "plt.title(\"La consistance\")\n",
    "plt.legend()\n",
    "plt.show()\n"
   ]
  },
  {
   "cell_type": "markdown",
   "id": "2a7c812b",
   "metadata": {},
   "source": [
    "Avec seulement 100 simulations on voit que pour n'importe quelle valeur de k,  l'espérance tend vers 0, ce qui prouve que notre classificateur $\\hat{c}_n$ est consistant.\n",
    "\n",
    "<hr style=\"border: 1px solid #000; margin-top: 5px; margin-bottom: 5px;\">\n",
    "\n",
    "With only 100 simulations, we see that for any value of k, the expectation tends towards 0, which proves that our classifier $\\hat{c}_n$ is consistent.\n"
   ]
  },
  {
   "cell_type": "markdown",
   "id": "1b099a0e",
   "metadata": {},
   "source": [
    "<div style=\"background-color: #F6BDD1; color:white; padding: 10px;\">\n",
    "    <h1>II.Arbres de décisions </h1>\n",
    "</div>"
   ]
  },
  {
   "cell_type": "markdown",
   "id": "8eb5d768",
   "metadata": {},
   "source": [
    "<div style=\"background-color: #C7F3A5; padding: 10px;\">\n",
    "    <h>\n",
    "On s'intéresse aux données <i>numbers_train.txt</i> et <i>numbers_test.txt</i>. Chaque fichier contient 500 images de dimension $16 \\times 16$ et chaque image représente un caractère manuscrit (un chiffre entre 0 et 9). On a donc $Y \\in {1, \\dots,9}$ et $X = (X^1, \\dots, X^{256}) \\in \\mathbb{R}^{256}$. Il s'agit d'images de niveaux de gris où chaque pixel prend une valeur entre 0 (noir) et 1 (blanc).\n",
    "</h>\n",
    "</div>    "
   ]
  },
  {
   "cell_type": "markdown",
   "id": "d3f0d167-fb46-423d-819f-9c440c03665a",
   "metadata": {},
   "source": [
    "<hr style=\"border: 1px solid #000; margin-top: 5px; margin-bottom: 5px;\">"
   ]
  },
  {
   "cell_type": "markdown",
   "id": "158c5340-f5b0-4d24-8428-43b54b2c1bf3",
   "metadata": {},
   "source": [
    "<div style=\"background-color: #C7F3A5; padding: 10px;\">\n",
    "    <h>\n",
    "        We are interested in the data files <i>numbers_train.txt</i> and <i>numbers_test.txt</i>. Each file contains 500 images of size $16 \\times 16$, and each image represents a handwritten character (a digit between 0 and 9). Therefore, $Y \\in {1, \\dots,9}$ et $X = (X^1, \\dots, X^{256}) \\in \\mathbb{R}^{256}$. These are grayscale images where each pixel takes a value between 0 (black) and 1 (white).\n",
    "    </h>\n",
    "</div>    "
   ]
  },
  {
   "cell_type": "markdown",
   "id": "11ca2518",
   "metadata": {},
   "source": [
    "### Préparation du data set"
   ]
  },
  {
   "cell_type": "markdown",
   "id": "09f8e33d",
   "metadata": {},
   "source": [
    "Nos datasets d'entraînement et de test contiennent chacun 500 lignes. Lorsque nous devrons ajuster un arbre de classification par élagage avec le critère $C_{\\alpha}$, nous devrons utiliser le jeu de données dans son entièreté nous allons donc les concaténer ensemble. Nous allons également séparer notre variable à prédire *Y* des variables *X* pour chacun de nos datasets.\n",
    "\n",
    "<hr style=\"border: 1px solid #000; margin-top: 5px; margin-bottom: 5px;\">\n",
    "\n",
    "Our training and test datasets each contain 500 rows. When we need to fit a classification tree by pruning with the $C_{\\alpha}$ criterion, we will use the entire dataset, so we will concatenate them together. We will also separate our target variable *Y* from the variables *X* for each of our datasets.\n"
   ]
  },
  {
   "cell_type": "code",
   "execution_count": 6,
   "id": "b2b0f794",
   "metadata": {},
   "outputs": [],
   "source": [
    "train_data_numbers = pd.read_csv(\"Datasets/numbers_train.txt\", sep=\" \")\n",
    "test_data_numbers = pd.read_csv(\"Datasets/numbers_test.txt\", sep=\" \")\n",
    "\n",
    "data_numbers = pd.concat([train_data_numbers, test_data_numbers], ignore_index=True)\n",
    "\n",
    "# séparer la variables y des variables x\n",
    "# entraînement\n",
    "y_train_numbers = train_data_numbers[\"y\"]\n",
    "x_train_numbers = train_data_numbers.drop(\"y\", axis = 1)\n",
    "\n",
    "# test\n",
    "y_test_numbers = test_data_numbers[\"y\"]\n",
    "x_test_numbers = test_data_numbers.drop(\"y\", axis = 1)\n",
    "\n",
    "# dataset complet\n",
    "y_numbers = data_numbers[\"y\"]\n",
    "x_numbers = data_numbers.drop(\"y\", axis = 1)"
   ]
  },
  {
   "cell_type": "markdown",
   "id": "76290857",
   "metadata": {},
   "source": [
    "### Arbre de décision - Profondeur de l'arbre"
   ]
  },
  {
   "cell_type": "markdown",
   "id": "3947cfc8",
   "metadata": {},
   "source": [
    "Maintenant que nos données sont préparées, nous allons pouvoir passer à la réalisation de nos arbres de décisions. Nous allons, dans un premier temps,  ajustez par cross-validation un arbre de classification en faisant varier la profondeur de l'arbre.\n",
    "\n",
    "<hr style=\"border: 1px solid #000; margin-top: 5px; margin-bottom: 5px;\">\n",
    "\n",
    "Now that our data is prepared, we can move on to building our decision trees. First, we will adjust a classification tree by cross-validation, varying the depth of the tree.\n"
   ]
  },
  {
   "cell_type": "markdown",
   "id": "fb5277db",
   "metadata": {},
   "source": [
    "#### Arbre de décision\n",
    "\n",
    "Un arbre de décision est un modèle d'apprentissage supervisé. Il divise succesivement un ensemble de données en sous-groupes homogènes basés sur les caractéristiques des données. Chaque noeud de l'arbre représente une décision basée sur une caractéristique, chaque branche représente, elle, le résultat de la décision et pour finir chaque feuille représente une classe de sortie.\n",
    "\n",
    "<hr style=\"border: 1px solid #000; margin-top: 5px; margin-bottom: 5px;\">\n",
    "    A decision tree is a supervised learning model. It successively divides a dataset into homogeneous subgroups based on the features of the data. Each node of the tree represents a decision based on a feature, each branch represents the result of the decision, and finally, each leaf represents an output class.\n",
    "\n",
    "\n",
    "#### Profondeur de l'arbre\n",
    "\n",
    "La profondeur de l'arbre de décision est la longueur du chemin le plus long du noeud initial à une feuille. Elle mesure le nombre de niveaux ou de couches dans la structure de l'arbre. Une grande profondeur peut mieux s'adapter aux données mais elle peut conduire à un surajustement du modèle aux données.\n",
    "\n",
    "<hr style=\"border: 1px solid #000; margin-top: 5px; margin-bottom: 5px;\">\n",
    "The depth of a decision tree is the length of the longest path from the root node to a leaf. It measures the number of levels or layers in the tree structure. A large depth can better fit the data, but it can also lead to overfitting the model to the data.\n"
   ]
  },
  {
   "cell_type": "code",
   "execution_count": 7,
   "id": "e737af72",
   "metadata": {},
   "outputs": [
    {
     "name": "stdout",
     "output_type": "stream",
     "text": [
      "Meilleurs paramètres: {'max_depth': 8}\n",
      "Précision sur l'ensemble de test: 0.702\n"
     ]
    }
   ],
   "source": [
    "# valeur à tester pour la profondeur\n",
    "param_grid = {\"max_depth\": range(1,15)}\n",
    "\n",
    "tree_classifier = DecisionTreeClassifier(random_state=123)\n",
    "\n",
    "# GreadSearch par validation croisée\n",
    "grid_search = GridSearchCV(tree_classifier, param_grid, cv=5)\n",
    "\n",
    "# entraînement du modèle\n",
    "grid_search.fit(x_train_numbers, y_train_numbers)\n",
    "\n",
    "# meilleur modèle\n",
    "arbre_T1 = grid_search.best_estimator_\n",
    "print(\"Meilleurs paramètres:\", grid_search.best_params_)\n",
    "\n",
    "# accuracy\n",
    "\n",
    "accuracy1 = arbre_T1.score(x_test_numbers, y_test_numbers)\n",
    "print(\"Précision sur l'ensemble de test:\", accuracy1)"
   ]
  },
  {
   "cell_type": "markdown",
   "id": "5fd89e2c",
   "metadata": {},
   "source": [
    "Nous avons donc pour notre arbre de décisions $\\hat{T_1}$ une profondeur de 8 et nous obtenons une précision de 0.702 pour ce modèle.\n",
    "<hr style=\"border: 1px solid #000; margin-top: 5px; margin-bottom: 5px;\">\n",
    "Therefore, for our decision tree $\\hat{T_1}$, we have a depth of 8, and we achieve an accuracy of 0.702 for this model.\n"
   ]
  },
  {
   "cell_type": "markdown",
   "id": "016b2d26",
   "metadata": {},
   "source": [
    "### 3 - Arbre de décision -  Elagage"
   ]
  },
  {
   "cell_type": "markdown",
   "id": "3c14f212",
   "metadata": {},
   "source": [
    "Nous allons maintenant rèaliser un deuxième arbre $\\hat{T_2}$. Cette fois-ci, nous allons ajuster notre arbre par cross-validation mais en utilisant la méthode par élagage avec le critère $C_{\\alpha}$.\n",
    "<hr style=\"border: 1px solid #000; margin-top: 5px; margin-bottom: 5px;\">\n",
    "\n",
    "We will now build a second tree, $\\hat{T_2}$. This time, we will adjust our tree using cross-validation, but with pruning based on the $C_{\\alpha}$ criterion.\n",
    "\n",
    "\n",
    "#### Elagage\n",
    "L'élagage est une technique utilisée pour éviter le surajustement des arbres de décision. Cette technique consiste à supprimer certaines branches de l'arbre. Pour cela on ajoute une pénalisation : \n",
    "$$C_{\\alpha}(T) = \\sum_{i=1}^N (Y_i - T(X_i))^2 + \\alpha |T|$$\n",
    "\n",
    "<hr style=\"border: 1px solid #000; margin-top: 5px; margin-bottom: 5px;\">\n",
    "Pruning is a technique used to prevent overfitting in decision trees. This technique involves removing certain branches of the tree. To do this, a penalty is added:  \n",
    "$$C_{\\alpha}(T) = \\sum_{i=1}^N (Y_i - T(X_i))^2 + \\alpha |T|$$  "
   ]
  },
  {
   "cell_type": "code",
   "execution_count": 8,
   "id": "58565415",
   "metadata": {},
   "outputs": [
    {
     "name": "stdout",
     "output_type": "stream",
     "text": [
      "Meilleure valeur de ccp_alpha: 0.004961636828644502\n",
      "Précision sur l'ensemble de test avec le meilleur arbre: 0.682\n"
     ]
    }
   ],
   "source": [
    "tree_classifier = DecisionTreeClassifier(random_state=123)\n",
    "\n",
    "path = tree_classifier.cost_complexity_pruning_path(x_numbers,y_numbers)\n",
    "alphas, impurities = path.ccp_alphas, path.impurities\n",
    "\n",
    "# grille des hyperparamètres à rechercher\n",
    "param_grid = {\"ccp_alpha\": alphas}\n",
    "\n",
    "# recheche par grille\n",
    "grid_search = GridSearchCV(tree_classifier, param_grid, cv=5)\n",
    "grid_search.fit(x_train_numbers, y_train_numbers)\n",
    "\n",
    "# obtenir le meilleur modèle (avec la meilleure valeur de ccp_alpha)\n",
    "arbre_T2 = grid_search.best_estimator_\n",
    "\n",
    "\n",
    "best_alpha = arbre_T2.ccp_alpha\n",
    "print(\"Meilleure valeur de ccp_alpha:\", best_alpha)\n",
    "\n",
    "accuracy2 = arbre_T2.score(x_test_numbers, y_test_numbers)\n",
    "print(\"Précision sur l'ensemble de test avec le meilleur arbre:\", accuracy2)\n"
   ]
  },
  {
   "cell_type": "markdown",
   "id": "695d730d",
   "metadata": {},
   "source": [
    "Pour notre arbre $\\hat{T_2}$ nous avons comme meilleure valeur pour $C_{alpha}$ 0.00496 et nous avons une précision de 0.682 pour ce modèle.\n",
    "<hr style=\"border: 1px solid #000; margin-top: 5px; margin-bottom: 5px;\">\n",
    "For our tree $\\hat{T_2}$, the best value for $C_{\\alpha}$ is 0.00496, and we achieve an accuracy of 0.682 for this model.\n"
   ]
  },
  {
   "cell_type": "markdown",
   "id": "95523865",
   "metadata": {},
   "source": [
    "### Forêts - Ajustement du nombre d'arbres\n",
    "\n",
    "#### Forêt aléatoire\n",
    "Cette technique combine plusieurs arbres de décision. Chaque arbre est construit sur un sous-ensemble aléatoire des données. Cette technique permet de réduire le surajustement, chaque arbre apprend différemment et combiner les résultats permet une meilleure généralisation des résultats.\n",
    "\n",
    "<hr style=\"border: 1px solid #000; margin-top: 5px; margin-bottom: 5px;\">\n",
    "This technique combines several decision trees. Each tree is built on a random subset of the data. This approach helps reduce overfitting, as each tree learns differently, and combining the results leads to better generalization of the outcomes.\n",
    "\n",
    "\n",
    "#### Nombre d'arbres\n",
    "Il s'agit d'un hyperparamètre d'une forêt aléatoire. Il détermine le nombre d'arbres de décision dans notre forêt. Un nombre d'arbre trop important peut rendre le calcul bien plus long et la progression serait moindre, il est important de trouver le nombre optimal d'arbre à fin d'éviter ce problème.\n",
    "\n",
    "<hr style=\"border: 1px solid #000; margin-top: 5px; margin-bottom: 5px;\">\n",
    "This is a hyperparameter of a random forest. It determines the number of decision trees in our forest. A too-large number of trees can make the computation much longer, and the improvement would be minimal. It is important to find the optimal number of trees in order to avoid this issue.\n"
   ]
  },
  {
   "cell_type": "markdown",
   "id": "29852aac",
   "metadata": {},
   "source": [
    "Nous allons donc, maintenant, réaliser un troisième arbre $\\hat{F}$ en optimisant par cross-validation le nombre d'arbres.\n",
    "\n",
    "<hr style=\"border: 1px solid #000; margin-top: 5px; margin-bottom: 5px;\">\n",
    "We will now build a third tree, $\\hat{F}$, by optimizing the number of trees using cross-validation.\n"
   ]
  },
  {
   "cell_type": "code",
   "execution_count": 9,
   "id": "de7e5f95",
   "metadata": {},
   "outputs": [
    {
     "name": "stdout",
     "output_type": "stream",
     "text": [
      "Meilleurs hyperparamètres: {'n_estimators': 100}\n",
      "Précision sur l'ensemble de test: 0.858\n"
     ]
    }
   ],
   "source": [
    "# définissez la grille des hyperparamètres à rechercher\n",
    "param_grid = {\"n_estimators\": [50, 100, 150]}\n",
    "\n",
    "forest_classifier = RandomForestClassifier(random_state=123)\n",
    "\n",
    "# recherche par grille\n",
    "grid_search = GridSearchCV(forest_classifier, param_grid, cv=5)\n",
    "grid_search.fit(x_train_numbers, y_train_numbers)\n",
    "\n",
    "best_n = grid_search.best_params_\n",
    "F = grid_search.best_estimator_\n",
    "\n",
    "\n",
    "# affichez les meilleurs hyperparamètres\n",
    "print(\"Meilleurs hyperparamètres:\", best_n)\n",
    "\n",
    "# évaluez la précision sur l'ensemble de test\n",
    "accuracy3 = F.score(x_test_numbers, y_test_numbers)\n",
    "print(\"Précision sur l'ensemble de test:\", accuracy3)\n"
   ]
  },
  {
   "cell_type": "markdown",
   "id": "9ba11606",
   "metadata": {},
   "source": [
    "Nous avons donc pour notre forêt $\\hat{F}$  une précision de 0.864. Le nombre d'arbre optimal pour notre modèle est 100.\n",
    "\n",
    "<hr style=\"border: 1px solid #000; margin-top: 5px; margin-bottom: 5px;\">\n",
    "        Therefore, for our forest $\\hat{F}$, we achieve an accuracy of 0.864. The optimal number of trees for our model is 100.\n"
   ]
  },
  {
   "cell_type": "markdown",
   "id": "8052550a",
   "metadata": {},
   "source": [
    "### Approche des plus proches voisins \n",
    "\n",
    "Il s'agit d'une méthode d'apprentissage supervisé. Elle est basée sur le principe que des points similaires devraient avoir des étiquettes similaires. \n",
    "\n",
    "Il faut choisir le nombre de voisins k à considérer lors de la prédiction. Un k trop petit peut conduire à une sensibilité au bruit, alors qu'un k trop grand peut amener une trop forte influence des caractéristiques non représentatives.\n",
    "\n",
    "Nous allons maintenant réaliser notre modèle d'apprentissage.\n",
    "\n",
    "<hr style=\"border: 1px solid #000; margin-top: 5px; margin-bottom: 5px;\">\n",
    "This is a supervised learning method. It is based on the principle that similar points should have similar labels.  \n",
    "\n",
    "The number of neighbors, $k$, must be chosen when making a prediction. A too-small $k$ can lead to sensitivity to noise, while a too-large $k$ may cause excessive influence from non-representative features.  \n",
    "\n",
    "We will now build our learning model."
   ]
  },
  {
   "cell_type": "code",
   "execution_count": 10,
   "id": "619bc44e",
   "metadata": {},
   "outputs": [
    {
     "name": "stdout",
     "output_type": "stream",
     "text": [
      "Meilleur nombre de voisins (k): 1\n",
      "Précision sur l'ensemble de test: 0.882\n"
     ]
    }
   ],
   "source": [
    "# plage de valeurs pour k\n",
    "param_grid = {\"n_neighbors\": np.arange(1, 100)}\n",
    "\n",
    "knn = KNeighborsClassifier()\n",
    "\n",
    "# GridSearch\n",
    "grid_search = GridSearchCV(knn, param_grid, cv=5, scoring=\"accuracy\")\n",
    "grid_search.fit(x_train_numbers, y_train_numbers)\n",
    "\n",
    "# k optimal\n",
    "best_k = grid_search.best_params_[\"n_neighbors\"]\n",
    "print(\"Meilleur nombre de voisins (k):\", best_k)\n",
    "\n",
    "# entraîner le modèle final avec la meilleure valeur de k\n",
    "knn = KNeighborsClassifier(n_neighbors=best_k)\n",
    "knn.fit(x_train_numbers, y_train_numbers)\n",
    "\n",
    "accuracy4 = knn.score(x_test_numbers, y_test_numbers)\n",
    "print(\"Précision sur l'ensemble de test:\", accuracy4)"
   ]
  },
  {
   "cell_type": "markdown",
   "id": "b73951b3",
   "metadata": {},
   "source": [
    "Pour notre modèle *K-NN* le meilleur nombre de voisin est 1. Nous obtenons pour ce modèle une précision de 0.882.\n",
    "<hr style=\"border: 1px solid #000; margin-top: 5px; margin-bottom: 5px;\">\n",
    "For our *K-NN* model, the optimal number of neighbors is 1. This model achieves an accuracy of 0.882.\n"
   ]
  },
  {
   "cell_type": "markdown",
   "id": "e71436dc",
   "metadata": {},
   "source": [
    "### Conclusion"
   ]
  },
  {
   "cell_type": "code",
   "execution_count": 11,
   "id": "bbd39163",
   "metadata": {},
   "outputs": [
    {
     "data": {
      "text/html": [
       "<div>\n",
       "<style scoped>\n",
       "    .dataframe tbody tr th:only-of-type {\n",
       "        vertical-align: middle;\n",
       "    }\n",
       "\n",
       "    .dataframe tbody tr th {\n",
       "        vertical-align: top;\n",
       "    }\n",
       "\n",
       "    .dataframe thead th {\n",
       "        text-align: right;\n",
       "    }\n",
       "</style>\n",
       "<table border=\"1\" class=\"dataframe\">\n",
       "  <thead>\n",
       "    <tr style=\"text-align: right;\">\n",
       "      <th></th>\n",
       "      <th>Modèle</th>\n",
       "      <th>Accuracy</th>\n",
       "    </tr>\n",
       "  </thead>\n",
       "  <tbody>\n",
       "    <tr>\n",
       "      <th>0</th>\n",
       "      <td>Arbre de décision 1</td>\n",
       "      <td>0.702</td>\n",
       "    </tr>\n",
       "    <tr>\n",
       "      <th>1</th>\n",
       "      <td>Arbre de décision 2</td>\n",
       "      <td>0.682</td>\n",
       "    </tr>\n",
       "    <tr>\n",
       "      <th>2</th>\n",
       "      <td>Random Forest</td>\n",
       "      <td>0.858</td>\n",
       "    </tr>\n",
       "    <tr>\n",
       "      <th>3</th>\n",
       "      <td>k-NN</td>\n",
       "      <td>0.882</td>\n",
       "    </tr>\n",
       "  </tbody>\n",
       "</table>\n",
       "</div>"
      ],
      "text/plain": [
       "                Modèle  Accuracy\n",
       "0  Arbre de décision 1     0.702\n",
       "1  Arbre de décision 2     0.682\n",
       "2        Random Forest     0.858\n",
       "3                 k-NN     0.882"
      ]
     },
     "metadata": {},
     "output_type": "display_data"
    }
   ],
   "source": [
    "summary = pd.DataFrame({\"Modèle\": [\"Arbre de décision 1\", \"Arbre de décision 2\", \"Random Forest\", \"k-NN\"],\n",
    "    \"Accuracy\": [accuracy1, accuracy2, accuracy3, accuracy4]})\n",
    "\n",
    "display(summary)"
   ]
  },
  {
   "cell_type": "markdown",
   "id": "bc96a9f6",
   "metadata": {},
   "source": [
    "Le modèle ayant la meilleure précision de prédiction est le modèle *k-NN* avec une précision de 88,2%, il est suivi de près par le modèle *Random Forest* qui lui a une précision de 86,4%. En revanche, nos arbres de décisions se retrouvent, eux, bien derrière en terme de performance. En effet, le modèle d'arbre de décision avec ajustement de la profondeur a une précision de 70,2%, soit 18% de moins que le modèle k-NN. Et enfin, en dernière position nous retrouvons le modèle d'arbre de décision avec ajustement par élagage, qui a une précision de seulement 68,2%.\n",
    "\n",
    "<hr style=\"border: 1px solid #000; margin-top: 5px; margin-bottom: 5px;\">\n",
    "\n",
    "The model with the best prediction accuracy is the *k-NN* model, with an accuracy of 88.2%. It is closely followed by the *Random Forest* model, which has an accuracy of 86.4%.  \n",
    "\n",
    "However, our decision trees fall significantly behind in terms of performance. The decision tree model with depth adjustment has an accuracy of 70.2%, which is 18% lower than the *k-NN* model. Finally, in last place, we have the decision tree model with pruning adjustment, which has an accuracy of only 68.2%."
   ]
  }
 ],
 "metadata": {
  "kernelspec": {
   "display_name": "Python(ml_venv)",
   "language": "python",
   "name": "ml_venv"
  },
  "language_info": {
   "codemirror_mode": {
    "name": "ipython",
    "version": 3
   },
   "file_extension": ".py",
   "mimetype": "text/x-python",
   "name": "python",
   "nbconvert_exporter": "python",
   "pygments_lexer": "ipython3",
   "version": "3.13.0"
  }
 },
 "nbformat": 4,
 "nbformat_minor": 5
}
